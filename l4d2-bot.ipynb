{
 "cells": [
  {
   "cell_type": "code",
   "execution_count": null,
   "metadata": {},
   "outputs": [],
   "source": [
    "import torch\n",
    "import numpy as np\n",
    "from PIL import Image, ImageDraw\n",
    "import d3dshot\n",
    "import time\n",
    "import pydirectinput\n",
    "from pynput.mouse import Button, Controller as MouseController\n",
    "import pynput\n",
    "import math\n",
    "import keyboard"
   ]
  },
  {
   "cell_type": "code",
   "execution_count": null,
   "metadata": {},
   "outputs": [],
   "source": [
    "torch.backends.cudnn.benchmark=True"
   ]
  },
  {
   "cell_type": "code",
   "execution_count": null,
   "metadata": {},
   "outputs": [],
   "source": [
    "#Controlling Mouse: ctypes > win32api > pynput\n",
    "#Controlling Keyboard: ctypes > pydirectinput != pyautogui\n",
    "\n",
    "#fire directinputs: .287\n",
    "#fire ctypes: .057\n",
    "#(Faster by 5x)\n",
    "\n",
    "#mouse pynput: .104\n",
    "#mouse win32api: .016\n",
    "#mouse ctypes: .008\n",
    "#(Faster by 13x)\n",
    "\n",
    "#model cpu: .264\n",
    "#model gpu: 1.554\n",
    "#model time is dependent on game stress\n",
    "#.012 seconds model 5s"
   ]
  },
  {
   "cell_type": "code",
   "execution_count": null,
   "metadata": {},
   "outputs": [],
   "source": [
    "# Model\n",
    "model = torch.hub.load('ultralytics/yolov5', 'yolov5s', pretrained=True)\n",
    "model = model.cuda()\n",
    "from utils.plots import color_list"
   ]
  },
  {
   "cell_type": "code",
   "execution_count": null,
   "metadata": {},
   "outputs": [],
   "source": [
    "import ctypes\n",
    "SendInput = ctypes.windll.user32.SendInput\n",
    "\n",
    "W = 0x11\n",
    "A = 0x1E\n",
    "S = 0x1F\n",
    "D = 0x20\n",
    "L = 0x26\n",
    "\n",
    "# C struct redefinitions \n",
    "PUL = ctypes.POINTER(ctypes.c_ulong)\n",
    "class KeyBdInput(ctypes.Structure):\n",
    "    _fields_ = [(\"wVk\", ctypes.c_ushort),\n",
    "                (\"wScan\", ctypes.c_ushort),\n",
    "                (\"dwFlags\", ctypes.c_ulong),\n",
    "                (\"time\", ctypes.c_ulong),\n",
    "                (\"dwExtraInfo\", PUL)]\n",
    "\n",
    "class HardwareInput(ctypes.Structure):\n",
    "    _fields_ = [(\"uMsg\", ctypes.c_ulong),\n",
    "                (\"wParamL\", ctypes.c_short),\n",
    "                (\"wParamH\", ctypes.c_ushort)]\n",
    "\n",
    "class MouseInput(ctypes.Structure):\n",
    "    _fields_ = [(\"dx\", ctypes.c_long),\n",
    "                (\"dy\", ctypes.c_long),\n",
    "                (\"mouseData\", ctypes.c_ulong),\n",
    "                (\"dwFlags\", ctypes.c_ulong),\n",
    "                (\"time\",ctypes.c_ulong),\n",
    "                (\"dwExtraInfo\", PUL)]\n",
    "\n",
    "class Input_I(ctypes.Union):\n",
    "    _fields_ = [(\"ki\", KeyBdInput),\n",
    "                 (\"mi\", MouseInput),\n",
    "                 (\"hi\", HardwareInput)]\n",
    "\n",
    "class Input(ctypes.Structure):\n",
    "    _fields_ = [(\"type\", ctypes.c_ulong),\n",
    "                (\"ii\", Input_I)]\n",
    "\n",
    "# Actuals Functions\n",
    "def PressKey(hexKeyCode):\n",
    "    extra = ctypes.c_ulong(0)\n",
    "    ii_ = Input_I()\n",
    "    ii_.ki = KeyBdInput( 0, hexKeyCode, 0x0008, 0, ctypes.pointer(extra) )\n",
    "    x = Input( ctypes.c_ulong(1), ii_ )\n",
    "    ctypes.windll.user32.SendInput(1, ctypes.pointer(x), ctypes.sizeof(x))\n",
    "\n",
    "def ReleaseKey(hexKeyCode):\n",
    "    extra = ctypes.c_ulong(0)\n",
    "    ii_ = Input_I()\n",
    "    ii_.ki = KeyBdInput( 0, hexKeyCode, 0x0008 | 0x0002, 0, ctypes.pointer(extra) )\n",
    "    x = Input( ctypes.c_ulong(1), ii_ )\n",
    "    ctypes.windll.user32.SendInput(1, ctypes.pointer(x), ctypes.sizeof(x))\n",
    "\n",
    "if __name__ == '__main__':\n",
    "    PressKey(0x11)\n",
    "    time.sleep(1)\n",
    "    ReleaseKey(0x11)\n",
    "    time.sleep(1)"
   ]
  },
  {
   "cell_type": "code",
   "execution_count": null,
   "metadata": {},
   "outputs": [],
   "source": [
    "colors = color_list()\n",
    "def draw_image(img,pred,colors):\n",
    "    img = Image.fromarray(img.astype(np.uint8)) if isinstance(img, np.ndarray) else img  # from np\n",
    "    for *box, conf, cls in pred:\n",
    "        ImageDraw.Draw(img).rectangle(box, width=4, outline=colors[int(cls) % 10])  # plot    \n",
    "    return img"
   ]
  },
  {
   "cell_type": "code",
   "execution_count": null,
   "metadata": {},
   "outputs": [],
   "source": [
    "#from pynput.keyboard import Key, Controller as KeyboardController\n",
    "\n",
    "#keyboard = KeyboardController()\n",
    "mouse = MouseController()\n",
    "\n",
    "def unpause_game():\n",
    "    mouse.move(-10000,10000)\n",
    "    mouse.move(800,-10)\n",
    "    time.sleep(1)\n",
    "    mouse.click(Button.left,1)\n",
    "    time.sleep(1)\n",
    "    mouse.click(Button.left,1)"
   ]
  },
  {
   "cell_type": "code",
   "execution_count": null,
   "metadata": {},
   "outputs": [],
   "source": [
    "import ctypes\n",
    "def click(x,y):\n",
    "    ctypes.windll.user32.SetCursorPos(x, y)\n",
    "    ctypes.windll.user32.mouse_event(2, 0, 0, 0,0) # left down\n",
    "    ctypes.windll.user32.mouse_event(4, 0, 0, 0,0) # left up"
   ]
  },
  {
   "cell_type": "code",
   "execution_count": null,
   "metadata": {},
   "outputs": [],
   "source": [
    "#dir(ctypes.windll.user32)\n",
    "import win32gui"
   ]
  },
  {
   "cell_type": "code",
   "execution_count": null,
   "metadata": {},
   "outputs": [],
   "source": [
    "def aim_func(num):\n",
    "    return int(10*math.tanh(.02*num))#*.95*math.log(abs(num)+.001)"
   ]
  },
  {
   "cell_type": "code",
   "execution_count": null,
   "metadata": {},
   "outputs": [],
   "source": [
    "def quad(num,a,b,c):\n",
    "    return (-b + math.sqrt(b**2 -4*a*(c-num)))/(2*a)"
   ]
  },
  {
   "cell_type": "code",
   "execution_count": null,
   "metadata": {},
   "outputs": [],
   "source": [
    "math.sqrt(1440*1440 + 2560*2560)"
   ]
  },
  {
   "cell_type": "code",
   "execution_count": null,
   "metadata": {},
   "outputs": [],
   "source": [
    "def aim_mouse(pred):\n",
    "    #get closest person\n",
    "    closest_dis = 3000\n",
    "    closest_x = 1280\n",
    "    closest_y = 720\n",
    "    for *box, conf, cls in pred:\n",
    "        #get closest box\n",
    "        if(int(cls)==0):\n",
    "            temp1 = time.time()\n",
    "            x = (box[0] + box[2])/2\n",
    "            y = (box[3] - box[1])*.25 + box[1]\n",
    "            #y = (box[1] + box[3])/2\n",
    "            dis = math.sqrt(x**2 + y**2)\n",
    "            if(y>1300 or dis>closest_dis):# or (x>1350)):\n",
    "                continue\n",
    "            else:\n",
    "                closest_dis = dis\n",
    "                closest_x = x\n",
    "                closest_y = y\n",
    "    if(closest_dis==3000):\n",
    "        return 0\n",
    "                \n",
    "    x = closest_x\n",
    "    y = closest_y\n",
    "        \n",
    "    #calculate x\n",
    "    true_dif = abs(1280-x)+.001\n",
    "    pred_dif = quad(true_dif,.000880357,.874107,12.375)\n",
    "    chos_dif = min(true_dif,pred_dif)\n",
    "    new_x = 1280 - ((1280-x)/true_dif)*chos_dif\n",
    "    new_x = int(new_x)\n",
    "\n",
    "    #calculate y\n",
    "    new_y = int(y)\n",
    "    \n",
    "    click(new_x,new_y)\n",
    "    \n",
    "    #center: 1280, 720\n",
    "    #print(\"dx {} detected pos: {} selected pos: {}\".format((new_x,new_y),(x,y),(new_x+x,new_y+y)))\n",
    "    #print(\"{},{} : {} aim inside for loop\".format(x,y,temp2-temp1))"
   ]
  },
  {
   "cell_type": "code",
   "execution_count": null,
   "metadata": {},
   "outputs": [],
   "source": [
    "def fire():\n",
    "    PressKey(L)\n",
    "    ReleaseKey(L)"
   ]
  },
  {
   "cell_type": "code",
   "execution_count": null,
   "metadata": {},
   "outputs": [],
   "source": [
    "#unpause_game()\n",
    "unpause_game()\n",
    "time.sleep(1.5)\n",
    "mouse.move(1280,720)\n",
    "time.sleep(5)\n",
    "\n",
    "#time.sleep(1.5)"
   ]
  },
  {
   "cell_type": "code",
   "execution_count": null,
   "metadata": {},
   "outputs": [],
   "source": [
    "#does this have to be done in game?\n",
    "d = d3dshot.create()"
   ]
  },
  {
   "cell_type": "code",
   "execution_count": null,
   "metadata": {},
   "outputs": [],
   "source": [
    "from ctypes import Structure, windll, c_uint, sizeof, byref\n",
    "import cv2\n",
    "#windll.user32.mouse_event(1, 500, 0, 0, 0)  This works when mouse_raw_input = True"
   ]
  },
  {
   "cell_type": "code",
   "execution_count": null,
   "metadata": {
    "scrolled": false
   },
   "outputs": [],
   "source": [
    "#unpause_game()\n",
    "#call_car()\n",
    "time.sleep(1)\n",
    "frames = 1\n",
    "frame = -1\n",
    "init_img = 0\n",
    "init_pred = 0\n",
    "img_list = []\n",
    "while(True):\n",
    "    frame+=1\n",
    "    #for frame in range(frames):\n",
    "    if keyboard.is_pressed('l'):\n",
    "        print(\"Quit\")\n",
    "        break\n",
    "        \n",
    "    a = time.time()\n",
    "    img = d.screenshot()\n",
    "\n",
    "    #img = img.resize((512,288))\n",
    "    b = time.time()\n",
    "    result = model([img])\n",
    "    \n",
    "    c = time.time()\n",
    "    imgs = result.imgs[0]\n",
    "    pred = result.pred[0]\n",
    "    xyxy = result.xyxy\n",
    "    \n",
    "    if(frame%4==0):\n",
    "        aim_mouse(result.pred[0])\n",
    "    \n",
    "    if(frame == 0):\n",
    "        #aim_mouse(result.pred[0])\n",
    "        init_img = img\n",
    "        init_pred = pred\n",
    "    \n",
    "    e = time.time()\n",
    "    #print(\"---- frame {} FPS {} ----\".format(frame,1/(e-a)))\n",
    "    #print(\"{} seconds screenshot:\".format(b-a))\n",
    "    #print(\"{} seconds model\".format(c-b))\n",
    "    #print(\"{} seconds mouse\".format(e-c)\n",
    "    #print(\"{} seconds since detection\".format(e-a))"
   ]
  },
  {
   "cell_type": "code",
   "execution_count": null,
   "metadata": {
    "scrolled": true
   },
   "outputs": [],
   "source": [
    "img"
   ]
  },
  {
   "cell_type": "code",
   "execution_count": null,
   "metadata": {},
   "outputs": [],
   "source": [
    "draw_image(init_img,init_pred,colors)"
   ]
  },
  {
   "cell_type": "code",
   "execution_count": null,
   "metadata": {
    "scrolled": true
   },
   "outputs": [],
   "source": [
    "draw_image(img,pred,colors)"
   ]
  },
  {
   "cell_type": "code",
   "execution_count": null,
   "metadata": {},
   "outputs": [],
   "source": [
    "result.print()"
   ]
  },
  {
   "cell_type": "code",
   "execution_count": null,
   "metadata": {},
   "outputs": [],
   "source": [
    "# people = 0\n",
    "# cars = 4\n",
    "# trucks = 9\n",
    "# traffic lights = 2"
   ]
  },
  {
   "cell_type": "code",
   "execution_count": null,
   "metadata": {},
   "outputs": [],
   "source": [
    "img"
   ]
  },
  {
   "cell_type": "code",
   "execution_count": null,
   "metadata": {},
   "outputs": [],
   "source": [
    "'''import cv2\n",
    "import numpy as np\n",
    "import glob\n",
    "\n",
    "img_array = []\n",
    "for filename in glob.glob('model_imgs/*.jpg'):\n",
    "    img = cv2.imread(filename)\n",
    "    height, width, layers = img.shape\n",
    "    size = (width,height)\n",
    "    img_array.append(img)\n",
    " \n",
    "out = cv2.VideoWriter('project.avi',cv2.VideoWriter_fourcc(*'DIVX'), 15, size)\n",
    " \n",
    "for i in range(len(img_array)):\n",
    "    out.write(img_array[i])\n",
    "out.release()'''"
   ]
  }
 ],
 "metadata": {
  "kernelspec": {
   "display_name": "Python 3",
   "language": "python",
   "name": "python3"
  },
  "language_info": {
   "codemirror_mode": {
    "name": "ipython",
    "version": 3
   },
   "file_extension": ".py",
   "mimetype": "text/x-python",
   "name": "python",
   "nbconvert_exporter": "python",
   "pygments_lexer": "ipython3",
   "version": "3.8.5"
  }
 },
 "nbformat": 4,
 "nbformat_minor": 4
}
